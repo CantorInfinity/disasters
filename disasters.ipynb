{
 "cells": [
  {
   "cell_type": "code",
   "execution_count": 3,
   "metadata": {},
   "outputs": [],
   "source": [
    "import pandas as pd\n",
    "import sklearn\n",
    "from sklearn.feature_extraction.text import CountVectorizer\n",
    "from sklearn.metrics import mean_absolute_error\n",
    "from sklearn.model_selection import train_test_split\n",
    "from sklearn.tree import DecisionTreeRegressor\n"
   ]
  },
  {
   "cell_type": "code",
   "execution_count": 4,
   "metadata": {},
   "outputs": [],
   "source": [
    "data_location  = \"~/Downloads/nlp-getting-started/train.csv\""
   ]
  },
  {
   "cell_type": "code",
   "execution_count": 5,
   "metadata": {},
   "outputs": [],
   "source": [
    "data = pd.read_csv(data_location)"
   ]
  },
  {
   "cell_type": "code",
   "execution_count": 6,
   "metadata": {},
   "outputs": [
    {
     "data": {
      "text/html": [
       "<div>\n",
       "<style scoped>\n",
       "    .dataframe tbody tr th:only-of-type {\n",
       "        vertical-align: middle;\n",
       "    }\n",
       "\n",
       "    .dataframe tbody tr th {\n",
       "        vertical-align: top;\n",
       "    }\n",
       "\n",
       "    .dataframe thead th {\n",
       "        text-align: right;\n",
       "    }\n",
       "</style>\n",
       "<table border=\"1\" class=\"dataframe\">\n",
       "  <thead>\n",
       "    <tr style=\"text-align: right;\">\n",
       "      <th></th>\n",
       "      <th>id</th>\n",
       "      <th>keyword</th>\n",
       "      <th>location</th>\n",
       "      <th>text</th>\n",
       "      <th>target</th>\n",
       "    </tr>\n",
       "  </thead>\n",
       "  <tbody>\n",
       "    <tr>\n",
       "      <th>0</th>\n",
       "      <td>1</td>\n",
       "      <td>NaN</td>\n",
       "      <td>NaN</td>\n",
       "      <td>Our Deeds are the Reason of this #earthquake M...</td>\n",
       "      <td>1</td>\n",
       "    </tr>\n",
       "    <tr>\n",
       "      <th>1</th>\n",
       "      <td>4</td>\n",
       "      <td>NaN</td>\n",
       "      <td>NaN</td>\n",
       "      <td>Forest fire near La Ronge Sask. Canada</td>\n",
       "      <td>1</td>\n",
       "    </tr>\n",
       "    <tr>\n",
       "      <th>2</th>\n",
       "      <td>5</td>\n",
       "      <td>NaN</td>\n",
       "      <td>NaN</td>\n",
       "      <td>All residents asked to 'shelter in place' are ...</td>\n",
       "      <td>1</td>\n",
       "    </tr>\n",
       "    <tr>\n",
       "      <th>3</th>\n",
       "      <td>6</td>\n",
       "      <td>NaN</td>\n",
       "      <td>NaN</td>\n",
       "      <td>13,000 people receive #wildfires evacuation or...</td>\n",
       "      <td>1</td>\n",
       "    </tr>\n",
       "    <tr>\n",
       "      <th>4</th>\n",
       "      <td>7</td>\n",
       "      <td>NaN</td>\n",
       "      <td>NaN</td>\n",
       "      <td>Just got sent this photo from Ruby #Alaska as ...</td>\n",
       "      <td>1</td>\n",
       "    </tr>\n",
       "  </tbody>\n",
       "</table>\n",
       "</div>"
      ],
      "text/plain": [
       "   id keyword location                                               text  \\\n",
       "0   1     NaN      NaN  Our Deeds are the Reason of this #earthquake M...   \n",
       "1   4     NaN      NaN             Forest fire near La Ronge Sask. Canada   \n",
       "2   5     NaN      NaN  All residents asked to 'shelter in place' are ...   \n",
       "3   6     NaN      NaN  13,000 people receive #wildfires evacuation or...   \n",
       "4   7     NaN      NaN  Just got sent this photo from Ruby #Alaska as ...   \n",
       "\n",
       "   target  \n",
       "0       1  \n",
       "1       1  \n",
       "2       1  \n",
       "3       1  \n",
       "4       1  "
      ]
     },
     "execution_count": 6,
     "metadata": {},
     "output_type": "execute_result"
    }
   ],
   "source": [
    "data.head()"
   ]
  },
  {
   "cell_type": "code",
   "execution_count": 7,
   "metadata": {},
   "outputs": [
    {
     "data": {
      "text/plain": [
       "0    Our Deeds are the Reason of this #earthquake M...\n",
       "1               Forest fire near La Ronge Sask. Canada\n",
       "2    All residents asked to 'shelter in place' are ...\n",
       "3    13,000 people receive #wildfires evacuation or...\n",
       "4    Just got sent this photo from Ruby #Alaska as ...\n",
       "5    #RockyFire Update => California Hwy. 20 closed...\n",
       "6    #flood #disaster Heavy rain causes flash flood...\n",
       "7    I'm on top of the hill and I can see a fire in...\n",
       "8    There's an emergency evacuation happening now ...\n",
       "9    I'm afraid that the tornado is coming to our a...\n",
       "Name: text, dtype: object"
      ]
     },
     "execution_count": 7,
     "metadata": {},
     "output_type": "execute_result"
    }
   ],
   "source": [
    "data.text[0:10]"
   ]
  },
  {
   "cell_type": "code",
   "execution_count": 32,
   "metadata": {},
   "outputs": [],
   "source": [
    "cv = CountVectorizer()"
   ]
  },
  {
   "cell_type": "code",
   "execution_count": 33,
   "metadata": {},
   "outputs": [],
   "source": [
    "X = cv.fit_transform(data.text)"
   ]
  },
  {
   "cell_type": "code",
   "execution_count": 49,
   "metadata": {},
   "outputs": [],
   "source": [
    "train_X, val_X, train_y, val_y = train_test_split(X, data.target, random_state=1, shuffle=False)"
   ]
  },
  {
   "cell_type": "code",
   "execution_count": 50,
   "metadata": {},
   "outputs": [
    {
     "name": "stdout",
     "output_type": "stream",
     "text": [
      "5709    1\n",
      "5710    1\n",
      "5711    1\n",
      "5712    1\n",
      "5713    0\n",
      "5714    1\n",
      "5715    0\n",
      "5716    1\n",
      "5717    1\n",
      "5718    1\n",
      "5719    1\n",
      "5720    1\n",
      "5721    1\n",
      "5722    0\n",
      "5723    1\n",
      "5724    1\n",
      "5725    1\n",
      "5726    1\n",
      "5727    1\n",
      "5728    1\n",
      "5729    1\n",
      "5730    1\n",
      "5731    1\n",
      "5732    1\n",
      "5733    1\n",
      "5734    1\n",
      "5735    1\n",
      "5736    1\n",
      "5737    1\n",
      "5738    1\n",
      "       ..\n",
      "7583    1\n",
      "7584    0\n",
      "7585    1\n",
      "7586    1\n",
      "7587    0\n",
      "7588    1\n",
      "7589    1\n",
      "7590    1\n",
      "7591    1\n",
      "7592    1\n",
      "7593    0\n",
      "7594    1\n",
      "7595    1\n",
      "7596    1\n",
      "7597    1\n",
      "7598    1\n",
      "7599    1\n",
      "7600    1\n",
      "7601    1\n",
      "7602    1\n",
      "7603    1\n",
      "7604    1\n",
      "7605    1\n",
      "7606    1\n",
      "7607    1\n",
      "7608    1\n",
      "7609    1\n",
      "7610    1\n",
      "7611    1\n",
      "7612    1\n",
      "Name: target, Length: 1904, dtype: int64\n"
     ]
    }
   ],
   "source": [
    "print(val_y)"
   ]
  },
  {
   "cell_type": "code",
   "execution_count": 62,
   "metadata": {},
   "outputs": [
    {
     "name": "stdout",
     "output_type": "stream",
     "text": [
      "1904\n",
      "1904\n"
     ]
    }
   ],
   "source": [
    "print(len(data.text[5709:7613]))\n",
    "print(len(val_predictions))\n",
    "comparison = pd.DataFrame({'text': data.text[5709:7613], 'truth': val_y[0:1904], 'prediction': list(val_predictions)[0:1904]}, columns=['text', 'truth', 'prediction'])"
   ]
  },
  {
   "cell_type": "code",
   "execution_count": 75,
   "metadata": {
    "scrolled": true
   },
   "outputs": [],
   "source": [
    "pd.set_option('display.max_colwidth', 100)"
   ]
  },
  {
   "cell_type": "code",
   "execution_count": 76,
   "metadata": {},
   "outputs": [
    {
     "name": "stdout",
     "output_type": "stream",
     "text": [
      "                                                                                                     text  \\\n",
      "5709  VIDEO: 'We're picking up bodies from water': Rescuers are searching for hundreds of migrants in ...   \n",
      "5710  VIDEO: 'We're picking up bodies from water' - Rescuers are searching for hundreds of migrants in...   \n",
      "5711  #world Fears over missing migrants in Med: Rescuers search for survivors after a boat carrying a...   \n",
      "5712  @Durban_Knight Rescuers are searching for hundreds of migrants in the Mediterranean after a boat...   \n",
      "5713                              I have an unexplainable desire to watch The Rescuers. #childhooddefined   \n",
      "5714  #RoddyPiperAutos Fears over missing migrants in Med: Rescuers search for survivors after a boat ...   \n",
      "5715  @AndyGilder Channel 5 have been doing the same for the RSPCA with Dog Rescuers.....'The Infomerc...   \n",
      "5716  VIDEO: 'We're picking up bodies from water': Rescuers are searching for hundreds of migrants in ...   \n",
      "5717            WomanÛªs GPS app guides rescuers to injured biker in Marin County http://t.co/UoJy4E2Sv4   \n",
      "5718  VIDEO: 'We're picking up bodies from water': Rescuers are searching for hundreds of migrants in ...   \n",
      "5719  VIDEO: 'We're picking up bodies from water': Rescuers are searching for hundreds of migrants in ...   \n",
      "5720  VIDEO: 'We're picking up bodies from water': Rescuers are searching for hundreds of migrants in ...   \n",
      "5721  VIDEO: 'We're picking up bodies from water': Rescuers are searching for hundreds of migrants in ...   \n",
      "5722  Last Second Ebay Bid RT? http://t.co/oEKUcq4ZL0 Shaolin Rescuers (dvd 2010) Shen Chan Nan Chiang...   \n",
      "5723  VIDEO: 'We're picking up bodies from water': Rescuers are searching for hundreds of migrants in ...   \n",
      "5724  #WorldNews\\n VIDEO: 'We're picking up bodies from water' - BBC News - Home:\\nRescuers are search...   \n",
      "5725  VIDEO: 'We're picking up bodies from water': Rescuers are searching for hundreds of migrants in ...   \n",
      "5726  http://t.co/XlFi7ovhFJ VIDEO: 'We're picking up bodies from water': Rescuers are searching for h...   \n",
      "5727  AH-Mazing story of the power animal rescuers have! A starving homeless dog with no future was re...   \n",
      "5728  Rescuers are searching for hundreds of migrants in the Mediterranean after a boat carrying as ma...   \n",
      "5729  #News: 'Many deaths' in shipwreck: Rescuers are trying to save hundreds of migrants after the......   \n",
      "5730  VIDEO: 'We're picking up bodies from water': Rescuers are searching for hundreds of migrants in ...   \n",
      "5731  VIDEO: 'We're picking up bodies from water': Rescuers are searching for hundreds of migrants in ...   \n",
      "5732  When Rescuers Found Him He Was Barely Alive. But They Had No Idea He Was Allergic To THIS! http:...   \n",
      "5733  Fears over missing migrants in Med: Rescuers search for survivors after a boat carrying as many ...   \n",
      "5734  VIDEO: 'We're picking up bodies from water': Rescuers are searching for hundreds of migrants in ...   \n",
      "5735     Woman's GPS app guides rescuers to injured biker in Marin County - SFGate http://t.co/Iz9U8BhfAA   \n",
      "5736  Fears over missing migrants in Med: Rescuers search for survivors after a boat carrying as many ...   \n",
      "5737                        Rescuers find survivors of Nepal earthquake buried ... http://t.co/I8SJ1KWs1D   \n",
      "5738  Rescuers recover body of 37-year-old Calgary man from lake near Vulcan \\n                       ...   \n",
      "...                                                                                                   ...   \n",
      "7583  Pic of 16yr old PKK suicide bomber who detonated bomb in Turkey Army trench released http://t.co...   \n",
      "7584  These boxes are ready to explode! Exploding Kittens finally arrived! gameofkittens #explodingkit...   \n",
      "7585                                Calgary Police Flood Road Closures in Calgary. http://t.co/RLN09WKe9g   \n",
      "7586    #Sismo DETECTADO #JapÌ_n 15:41:07 Seismic intensity 0 Iwate Miyagi JST #?? http://t.co/gMoUl9zQ2Q   \n",
      "7587                                                                                   Sirens everywhere!   \n",
      "7588  BREAKING: #ISIS claims responsibility for mosque attack in Saudi Arabia that killed 13 http://t....   \n",
      "7589                                                                                       Omg earthquake   \n",
      "7590  SEVERE WEATHER BULLETIN No. 5 FOR: TYPHOON ÛÏ#HannaPHÛ (SOUDELOR) TROPICAL CYCLONE: WARNING I...   \n",
      "7591                      Heat wave warning aa? Ayyo dei. Just when I plan to visit friends after a year.   \n",
      "7592  An IS group suicide bomber detonated an explosives-packed vest in a mosque inside a Saudi specia...   \n",
      "7593                                         I just heard a really loud bang and everyone is asleep great   \n",
      "7594          A gas thing just exploded and I heard screams and now the whole street smells of gas ... ??   \n",
      "7595  NWS: Flash Flood Warning Continued for Shelby County until 08:00 PM Wednesday. http://t.co/nZ7AC...   \n",
      "7596  RT @LivingSafely: #NWS issues Severe #Thunderstorm Warnings for parts of #AR #NC #OK. Expect mor...   \n",
      "7597  #??? #?? #??? #??? MH370: Aircraft debris found on La Reunion is from missing Malaysia Airlines ...   \n",
      "7598  Father-of-three Lost Control of Car After Overtaking and Collided #BathAndNorthEastSomerset http...   \n",
      "7599  1.3 #Earthquake in 9Km Ssw Of Anza California #iPhone users download the Earthquake app for more...   \n",
      "7600         Evacuation order lifted for town of Roosevelt: http://t.co/EDyfo6E2PU http://t.co/M5KxLPKFA1   \n",
      "7601  #breaking #LA Refugio oil spill may have been costlier bigger than projected http://t.co/5ueCmcv2Pk   \n",
      "7602                                    a siren just went off and it wasn't the Forney tornado warning ??   \n",
      "7603  Officials say a quarantine is in place at an Alabama home over a possible Ebola case after devel...   \n",
      "7604  #WorldNews Fallen powerlines on G:link tram: UPDATE: FIRE crews have evacuated up to 30 passenge...   \n",
      "7605  on the flip side I'm at Walmart and there is a bomb and everyone had to evacuate so stay tuned i...   \n",
      "7606  Suicide bomber kills 15 in Saudi security site mosque - Reuters via World - Google News - Wall ....   \n",
      "7607  #stormchase Violent Record Breaking EF-5 El Reno Oklahoma Tornado Nearly Runs Over ... - http://...   \n",
      "7608                  Two giant cranes holding a bridge collapse into nearby homes http://t.co/STfMbbZFB5   \n",
      "7609  @aria_ahrary @TheTawniest The out of control wild fires in California even in the Northern part ...   \n",
      "7610                                    M1.94 [01:04 UTC]?5km S of Volcano Hawaii. http://t.co/zDtoyd8EbJ   \n",
      "7611  Police investigating after an e-bike collided with a car in Little Portugal. E-bike rider suffer...   \n",
      "7612       The Latest: More Homes Razed by Northern California Wildfire - ABC News http://t.co/YmY4rSkQ3d   \n",
      "\n",
      "      truth  prediction  \n",
      "5709      1         0.0  \n",
      "5710      1         0.0  \n",
      "5711      1         0.0  \n",
      "5712      1         1.0  \n",
      "5713      0         0.0  \n",
      "5714      1         0.0  \n",
      "5715      0         0.0  \n",
      "5716      1         0.0  \n",
      "5717      1         1.0  \n",
      "5718      1         0.0  \n",
      "5719      1         0.0  \n",
      "5720      1         0.0  \n",
      "5721      1         0.0  \n",
      "5722      0         0.0  \n",
      "5723      1         1.0  \n",
      "5724      1         0.0  \n",
      "5725      1         0.0  \n",
      "5726      1         1.0  \n",
      "5727      1         0.0  \n",
      "5728      1         0.0  \n",
      "5729      1         0.0  \n",
      "5730      1         0.0  \n",
      "5731      1         1.0  \n",
      "5732      1         0.0  \n",
      "5733      1         0.0  \n",
      "5734      1         1.0  \n",
      "5735      1         1.0  \n",
      "5736      1         0.0  \n",
      "5737      1         0.0  \n",
      "5738      1         0.0  \n",
      "...     ...         ...  \n",
      "7583      1         0.0  \n",
      "7584      0         0.0  \n",
      "7585      1         0.0  \n",
      "7586      1         0.0  \n",
      "7587      0         0.0  \n",
      "7588      1         1.0  \n",
      "7589      1         1.0  \n",
      "7590      1         0.0  \n",
      "7591      1         1.0  \n",
      "7592      1         0.0  \n",
      "7593      0         0.0  \n",
      "7594      1         1.0  \n",
      "7595      1         1.0  \n",
      "7596      1         0.0  \n",
      "7597      1         0.0  \n",
      "7598      1         0.0  \n",
      "7599      1         0.0  \n",
      "7600      1         1.0  \n",
      "7601      1         1.0  \n",
      "7602      1         1.0  \n",
      "7603      1         1.0  \n",
      "7604      1         0.0  \n",
      "7605      1         0.0  \n",
      "7606      1         0.0  \n",
      "7607      1         0.0  \n",
      "7608      1         0.0  \n",
      "7609      1         0.0  \n",
      "7610      1         1.0  \n",
      "7611      1         1.0  \n",
      "7612      1         0.0  \n",
      "\n",
      "[1904 rows x 3 columns]\n"
     ]
    }
   ],
   "source": [
    "print(comparison)"
   ]
  },
  {
   "cell_type": "code",
   "execution_count": 36,
   "metadata": {},
   "outputs": [
    {
     "name": "stdout",
     "output_type": "stream",
     "text": [
      "83707\n",
      "27790\n",
      "111497\n"
     ]
    }
   ],
   "source": [
    "# Specify Model\n",
    "model = DecisionTreeRegressor(random_state=1)\n",
    "# Fit Model\n",
    "model.fit(train_X, train_y)\n",
    "print(train_X.getnnz())\n",
    "print(val_X.getnnz())\n",
    "print(X.getnnz())"
   ]
  },
  {
   "cell_type": "code",
   "execution_count": 12,
   "metadata": {},
   "outputs": [
    {
     "name": "stdout",
     "output_type": "stream",
     "text": [
      "[0. 0. 0. ... 1. 1. 0.]\n"
     ]
    }
   ],
   "source": [
    "# Make validation predictions and calculate mean absolute error\n",
    "val_predictions = model.predict(val_X)"
   ]
  },
  {
   "cell_type": "code",
   "execution_count": 22,
   "metadata": {},
   "outputs": [
    {
     "name": "stdout",
     "output_type": "stream",
     "text": [
      "<class 'numpy.ndarray'>\n"
     ]
    }
   ],
   "source": [
    "print(type(val_predictions))\n"
   ]
  },
  {
   "cell_type": "code",
   "execution_count": 43,
   "metadata": {},
   "outputs": [
    {
     "ename": "IndexError",
     "evalue": "index 6553 is out of bounds for axis 0 with size 1904",
     "output_type": "error",
     "traceback": [
      "\u001b[0;31m---------------------------------------------------------------------------\u001b[0m",
      "\u001b[0;31mIndexError\u001b[0m                                Traceback (most recent call last)",
      "\u001b[0;32m<ipython-input-43-3952aa689774>\u001b[0m in \u001b[0;36m<module>\u001b[0;34m\u001b[0m\n\u001b[0;32m----> 1\u001b[0;31m \u001b[0mprint\u001b[0m\u001b[0;34m(\u001b[0m\u001b[0mval_predictions\u001b[0m\u001b[0;34m[\u001b[0m\u001b[0;36m6553\u001b[0m\u001b[0;34m]\u001b[0m\u001b[0;34m)\u001b[0m\u001b[0;34m\u001b[0m\u001b[0;34m\u001b[0m\u001b[0m\n\u001b[0m",
      "\u001b[0;31mIndexError\u001b[0m: index 6553 is out of bounds for axis 0 with size 1904"
     ]
    }
   ],
   "source": [
    "print(val_predictions[6553])"
   ]
  },
  {
   "cell_type": "code",
   "execution_count": 24,
   "metadata": {},
   "outputs": [
    {
     "ename": "ValueError",
     "evalue": "array length 1900 does not match index length 3344",
     "output_type": "error",
     "traceback": [
      "\u001b[0;31m---------------------------------------------------------------------------\u001b[0m",
      "\u001b[0;31mValueError\u001b[0m                                Traceback (most recent call last)",
      "\u001b[0;32m<ipython-input-24-1ef40ceb55ca>\u001b[0m in \u001b[0;36m<module>\u001b[0;34m\u001b[0m\n\u001b[0;32m----> 1\u001b[0;31m \u001b[0mcomparison\u001b[0m \u001b[0;34m=\u001b[0m \u001b[0mpd\u001b[0m\u001b[0;34m.\u001b[0m\u001b[0mDataFrame\u001b[0m\u001b[0;34m(\u001b[0m\u001b[0;34m{\u001b[0m\u001b[0;34m'text'\u001b[0m\u001b[0;34m:\u001b[0m \u001b[0mdata\u001b[0m\u001b[0;34m.\u001b[0m\u001b[0mtext\u001b[0m\u001b[0;34m[\u001b[0m\u001b[0;36m0\u001b[0m\u001b[0;34m:\u001b[0m\u001b[0;36m1900\u001b[0m\u001b[0;34m]\u001b[0m\u001b[0;34m,\u001b[0m \u001b[0;34m'truth'\u001b[0m\u001b[0;34m:\u001b[0m \u001b[0mval_y\u001b[0m\u001b[0;34m[\u001b[0m\u001b[0;36m0\u001b[0m\u001b[0;34m:\u001b[0m\u001b[0;36m1900\u001b[0m\u001b[0;34m]\u001b[0m\u001b[0;34m,\u001b[0m \u001b[0;34m'prediction'\u001b[0m\u001b[0;34m:\u001b[0m \u001b[0mlist\u001b[0m\u001b[0;34m(\u001b[0m\u001b[0mval_predictions\u001b[0m\u001b[0;34m)\u001b[0m\u001b[0;34m[\u001b[0m\u001b[0;36m0\u001b[0m\u001b[0;34m:\u001b[0m\u001b[0;36m1900\u001b[0m\u001b[0;34m]\u001b[0m\u001b[0;34m}\u001b[0m\u001b[0;34m,\u001b[0m \u001b[0mcolumns\u001b[0m\u001b[0;34m=\u001b[0m\u001b[0;34m[\u001b[0m\u001b[0;34m'text'\u001b[0m\u001b[0;34m,\u001b[0m \u001b[0;34m'truth'\u001b[0m\u001b[0;34m,\u001b[0m \u001b[0;34m'prediction'\u001b[0m\u001b[0;34m]\u001b[0m\u001b[0;34m)\u001b[0m\u001b[0;34m\u001b[0m\u001b[0;34m\u001b[0m\u001b[0m\n\u001b[0m",
      "\u001b[0;32m~/anaconda3/lib/python3.6/site-packages/pandas/core/frame.py\u001b[0m in \u001b[0;36m__init__\u001b[0;34m(self, data, index, columns, dtype, copy)\u001b[0m\n\u001b[1;32m    390\u001b[0m                                  dtype=dtype, copy=copy)\n\u001b[1;32m    391\u001b[0m         \u001b[0;32melif\u001b[0m \u001b[0misinstance\u001b[0m\u001b[0;34m(\u001b[0m\u001b[0mdata\u001b[0m\u001b[0;34m,\u001b[0m \u001b[0mdict\u001b[0m\u001b[0;34m)\u001b[0m\u001b[0;34m:\u001b[0m\u001b[0;34m\u001b[0m\u001b[0;34m\u001b[0m\u001b[0m\n\u001b[0;32m--> 392\u001b[0;31m             \u001b[0mmgr\u001b[0m \u001b[0;34m=\u001b[0m \u001b[0minit_dict\u001b[0m\u001b[0;34m(\u001b[0m\u001b[0mdata\u001b[0m\u001b[0;34m,\u001b[0m \u001b[0mindex\u001b[0m\u001b[0;34m,\u001b[0m \u001b[0mcolumns\u001b[0m\u001b[0;34m,\u001b[0m \u001b[0mdtype\u001b[0m\u001b[0;34m=\u001b[0m\u001b[0mdtype\u001b[0m\u001b[0;34m)\u001b[0m\u001b[0;34m\u001b[0m\u001b[0;34m\u001b[0m\u001b[0m\n\u001b[0m\u001b[1;32m    393\u001b[0m         \u001b[0;32melif\u001b[0m \u001b[0misinstance\u001b[0m\u001b[0;34m(\u001b[0m\u001b[0mdata\u001b[0m\u001b[0;34m,\u001b[0m \u001b[0mma\u001b[0m\u001b[0;34m.\u001b[0m\u001b[0mMaskedArray\u001b[0m\u001b[0;34m)\u001b[0m\u001b[0;34m:\u001b[0m\u001b[0;34m\u001b[0m\u001b[0;34m\u001b[0m\u001b[0m\n\u001b[1;32m    394\u001b[0m             \u001b[0;32mimport\u001b[0m \u001b[0mnumpy\u001b[0m\u001b[0;34m.\u001b[0m\u001b[0mma\u001b[0m\u001b[0;34m.\u001b[0m\u001b[0mmrecords\u001b[0m \u001b[0;32mas\u001b[0m \u001b[0mmrecords\u001b[0m\u001b[0;34m\u001b[0m\u001b[0;34m\u001b[0m\u001b[0m\n",
      "\u001b[0;32m~/anaconda3/lib/python3.6/site-packages/pandas/core/internals/construction.py\u001b[0m in \u001b[0;36minit_dict\u001b[0;34m(data, index, columns, dtype)\u001b[0m\n\u001b[1;32m    182\u001b[0m             \u001b[0;31m# GH10856\u001b[0m\u001b[0;34m\u001b[0m\u001b[0;34m\u001b[0m\u001b[0;34m\u001b[0m\u001b[0m\n\u001b[1;32m    183\u001b[0m             \u001b[0;31m# raise ValueError if only scalars in dict\u001b[0m\u001b[0;34m\u001b[0m\u001b[0;34m\u001b[0m\u001b[0;34m\u001b[0m\u001b[0m\n\u001b[0;32m--> 184\u001b[0;31m             \u001b[0mindex\u001b[0m \u001b[0;34m=\u001b[0m \u001b[0mextract_index\u001b[0m\u001b[0;34m(\u001b[0m\u001b[0marrays\u001b[0m\u001b[0;34m[\u001b[0m\u001b[0;34m~\u001b[0m\u001b[0mmissing\u001b[0m\u001b[0;34m]\u001b[0m\u001b[0;34m)\u001b[0m\u001b[0;34m\u001b[0m\u001b[0;34m\u001b[0m\u001b[0m\n\u001b[0m\u001b[1;32m    185\u001b[0m         \u001b[0;32melse\u001b[0m\u001b[0;34m:\u001b[0m\u001b[0;34m\u001b[0m\u001b[0;34m\u001b[0m\u001b[0m\n\u001b[1;32m    186\u001b[0m             \u001b[0mindex\u001b[0m \u001b[0;34m=\u001b[0m \u001b[0mensure_index\u001b[0m\u001b[0;34m(\u001b[0m\u001b[0mindex\u001b[0m\u001b[0;34m)\u001b[0m\u001b[0;34m\u001b[0m\u001b[0;34m\u001b[0m\u001b[0m\n",
      "\u001b[0;32m~/anaconda3/lib/python3.6/site-packages/pandas/core/internals/construction.py\u001b[0m in \u001b[0;36mextract_index\u001b[0;34m(data)\u001b[0m\n\u001b[1;32m    326\u001b[0m                            \u001b[0;34m'length {idx_len}'\u001b[0m\u001b[0;34m\u001b[0m\u001b[0;34m\u001b[0m\u001b[0m\n\u001b[1;32m    327\u001b[0m                            .format(length=lengths[0], idx_len=len(index)))\n\u001b[0;32m--> 328\u001b[0;31m                     \u001b[0;32mraise\u001b[0m \u001b[0mValueError\u001b[0m\u001b[0;34m(\u001b[0m\u001b[0mmsg\u001b[0m\u001b[0;34m)\u001b[0m\u001b[0;34m\u001b[0m\u001b[0;34m\u001b[0m\u001b[0m\n\u001b[0m\u001b[1;32m    329\u001b[0m             \u001b[0;32melse\u001b[0m\u001b[0;34m:\u001b[0m\u001b[0;34m\u001b[0m\u001b[0;34m\u001b[0m\u001b[0m\n\u001b[1;32m    330\u001b[0m                 \u001b[0mindex\u001b[0m \u001b[0;34m=\u001b[0m \u001b[0mibase\u001b[0m\u001b[0;34m.\u001b[0m\u001b[0mdefault_index\u001b[0m\u001b[0;34m(\u001b[0m\u001b[0mlengths\u001b[0m\u001b[0;34m[\u001b[0m\u001b[0;36m0\u001b[0m\u001b[0;34m]\u001b[0m\u001b[0;34m)\u001b[0m\u001b[0;34m\u001b[0m\u001b[0;34m\u001b[0m\u001b[0m\n",
      "\u001b[0;31mValueError\u001b[0m: array length 1900 does not match index length 3344"
     ]
    }
   ],
   "source": [
    "comparison = pd.DataFrame({'text': data.text[0:1900], 'truth': val_y[0:1900], 'prediction': list(val_predictions)[0:1900]}, columns=['text', 'truth', 'prediction'])"
   ]
  },
  {
   "cell_type": "code",
   "execution_count": null,
   "metadata": {},
   "outputs": [],
   "source": [
    "f = open(\"prediction.csv\", \"a\")\n",
    "for predictions in val_predictions:\n",
    "    f.write(str(predictions))\n",
    "    f.write(\"\\n\")"
   ]
  },
  {
   "cell_type": "code",
   "execution_count": 13,
   "metadata": {},
   "outputs": [
    {
     "name": "stdout",
     "output_type": "stream",
     "text": [
      "0.2623424369747899\n"
     ]
    }
   ],
   "source": [
    "val_mae = mean_absolute_error(val_predictions, val_y)\n",
    "print(val_mae)\n"
   ]
  },
  {
   "cell_type": "code",
   "execution_count": null,
   "metadata": {},
   "outputs": [],
   "source": []
  }
 ],
 "metadata": {
  "kernelspec": {
   "display_name": "Python 3",
   "language": "python",
   "name": "python3"
  },
  "language_info": {
   "codemirror_mode": {
    "name": "ipython",
    "version": 3
   },
   "file_extension": ".py",
   "mimetype": "text/x-python",
   "name": "python",
   "nbconvert_exporter": "python",
   "pygments_lexer": "ipython3",
   "version": "3.6.8"
  }
 },
 "nbformat": 4,
 "nbformat_minor": 2
}
